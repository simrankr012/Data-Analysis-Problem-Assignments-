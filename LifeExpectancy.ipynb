{
 "cells": [
  {
   "cell_type": "code",
   "execution_count": 1,
   "metadata": {},
   "outputs": [
    {
     "name": "stdout",
     "output_type": "stream",
     "text": [
      "Khordha 63\n",
      "Baudh 61\n",
      "Subarnapur -1\n",
      "Debagarh 66\n",
      "Bhadrak 65\n",
      "Koraput 62\n",
      "Ganjam 60\n",
      "Jajapur 62\n",
      "Anugul 62\n",
      "Puri 68\n",
      "Dhenkanal 67\n",
      "Nabarangapur 63\n",
      "Gajapati 52\n",
      "Kendrapara 57\n",
      "Kendujhar 58\n",
      "Jagatsinghapur 59\n",
      "Rayagada 56\n",
      "Mayurbhanj 63\n",
      "Malkangiri 53\n",
      "Cuttack 68\n",
      "Nuapada 62\n",
      "Nayagarh 65\n",
      "Baleshwar 64\n",
      "Jharsuguda 66\n",
      "Kandhamal 59\n",
      "Kalahandi -1\n",
      "Sambalpur 66\n",
      "Bargarh 64\n",
      "Balangir 55\n",
      "Sundargarh 60\n",
      "[('Puri', 68), ('Cuttack', 68), ('Dhenkanal', 67), ('Debagarh', 66), ('Jharsuguda', 66), ('Sambalpur', 66), ('Bhadrak', 65), ('Nayagarh', 65), ('Baleshwar', 64), ('Bargarh', 64), ('Khordha', 63), ('Nabarangapur', 63), ('Mayurbhanj', 63), ('Koraput', 62), ('Jajapur', 62), ('Anugul', 62), ('Nuapada', 62), ('Baudh', 61), ('Ganjam', 60), ('Sundargarh', 60), ('Jagatsinghapur', 59), ('Kandhamal', 59), ('Kendujhar', 58), ('Kendrapara', 57), ('Rayagada', 56), ('Balangir', 55), ('Malkangiri', 53), ('Gajapati', 52), ('Subarnapur', -1), ('Kalahandi', -1)]\n"
     ]
    }
   ],
   "source": [
    "import pandas as pd\n",
    "import csv\n",
    "import numpy as np\n",
    "\n",
    "lines = np.genfromtxt(\"LifeExpect1.csv\", delimiter=\",\", dtype=None,skip_header=1)\n",
    "\n",
    "#reading the district names and LifeExpectancy\n",
    "my_dict = dict()\n",
    "my_dict = {rows[0]:rows[1] for rows in lines}\n",
    "        \n",
    "#printing data \n",
    "for i in my_dict:\n",
    "    print i, my_dict[i]\n",
    "        \n",
    "le=sorted(my_dict.items(), key=lambda kv: kv[1], reverse=True)\n",
    "print le\n",
    "\n",
    "with open('C:/Users/Simran/Desktop/LifeExpect2.csv','wb') as out:\n",
    "    csv_out=csv.writer(out,delimiter=',')\n",
    "    csv_out.writerow(['District','LifeExpectancy'])\n",
    "    for row in le:\n",
    "        csv_out.writerow(row)\n",
    "        \n",
    "\n",
    "            "
   ]
  },
  {
   "cell_type": "code",
   "execution_count": null,
   "metadata": {
    "collapsed": true
   },
   "outputs": [],
   "source": []
  }
 ],
 "metadata": {
  "kernelspec": {
   "display_name": "Python 2",
   "language": "python",
   "name": "python2"
  },
  "language_info": {
   "codemirror_mode": {
    "name": "ipython",
    "version": 2
   },
   "file_extension": ".py",
   "mimetype": "text/x-python",
   "name": "python",
   "nbconvert_exporter": "python",
   "pygments_lexer": "ipython2",
   "version": "2.7.13"
  }
 },
 "nbformat": 4,
 "nbformat_minor": 2
}
