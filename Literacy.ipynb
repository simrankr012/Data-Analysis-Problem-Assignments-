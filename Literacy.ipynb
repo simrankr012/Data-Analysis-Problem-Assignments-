{
 "cells": [
  {
   "cell_type": "code",
   "execution_count": 1,
   "metadata": {},
   "outputs": [
    {
     "name": "stdout",
     "output_type": "stream",
     "text": [
      "Khordha 86.88%\n",
      "Baudh 71.61%\n",
      "Subarnapur 74.42%\n",
      "Debagarh 72.57%\n",
      "Bhadrak 82.78%\n",
      "Koraput 49.21%\n",
      "Ganjam 71.09%\n",
      "Jajapur 80.13%\n",
      "Anugul 77.53%\n",
      "Puri 84.67%\n",
      "Dhenkanal 78.76%\n",
      "Nabarangapur 46.43%\n",
      "Gajapati 53.49%\n",
      "Kendrapara 85.15%\n",
      "Kendujhar 68.24%\n",
      "Jagatsinghapur 86.59%\n",
      "Rayagada 49.76%\n",
      "Mayurbhanj 63.17%\n",
      "Malkangiri 48.54%\n",
      "Cuttack 85.50%\n",
      "Nuapada 57.35%\n",
      "Nayagarh 80.42%\n",
      "Baleshwar 79.79%\n",
      "Jharsuguda 78.86%\n",
      "Kandhamal 64.13%\n",
      "Kalahandi 59.22%\n",
      "Sambalpur 76.22%\n",
      "Bargarh 74.62%\n",
      "Balangir 64.72%\n",
      "Sundargarh 73.34%\n"
     ]
    }
   ],
   "source": [
    "import pandas as pd\n",
    "import csv\n",
    "import numpy as np\n",
    "\n",
    "lines = np.genfromtxt(\"Literacy1.csv\", delimiter=\",\", dtype=None,skip_header=1)\n",
    "\n",
    "#reading the district names and literacy rate\n",
    "my_dict = dict()\n",
    "\n",
    "my_dict = {rows[0]:rows[1] for rows in lines}\n",
    "        \n",
    "#printing data \n",
    "for i in my_dict:\n",
    "    print i, my_dict[i]\n",
    "        \n"
   ]
  },
  {
   "cell_type": "code",
   "execution_count": 2,
   "metadata": {},
   "outputs": [
    {
     "name": "stdout",
     "output_type": "stream",
     "text": [
      "[('Khordha', '86.88%'), ('Jagatsinghapur', '86.59%'), ('Cuttack', '85.50%'), ('Kendrapara', '85.15%'), ('Puri', '84.67%'), ('Bhadrak', '82.78%'), ('Nayagarh', '80.42%'), ('Jajapur', '80.13%'), ('Baleshwar', '79.79%'), ('Jharsuguda', '78.86%'), ('Dhenkanal', '78.76%'), ('Anugul', '77.53%'), ('Sambalpur', '76.22%'), ('Bargarh', '74.62%'), ('Subarnapur', '74.42%'), ('Sundargarh', '73.34%'), ('Debagarh', '72.57%'), ('Baudh', '71.61%'), ('Ganjam', '71.09%'), ('Kendujhar', '68.24%'), ('Balangir', '64.72%'), ('Kandhamal', '64.13%'), ('Mayurbhanj', '63.17%'), ('Kalahandi', '59.22%'), ('Nuapada', '57.35%'), ('Gajapati', '53.49%'), ('Rayagada', '49.76%'), ('Koraput', '49.21%'), ('Malkangiri', '48.54%'), ('Nabarangapur', '46.43%')]\n"
     ]
    }
   ],
   "source": [
    "l=sorted(my_dict.items(), key=lambda kv: kv[1], reverse=True)\n",
    "print l"
   ]
  },
  {
   "cell_type": "code",
   "execution_count": 3,
   "metadata": {
    "collapsed": true
   },
   "outputs": [],
   "source": [
    "with open('C:/Users/Simran/Desktop/Literacy2.csv','wb') as out:\n",
    "    csv_out=csv.writer(out,delimiter=',')\n",
    "    csv_out.writerow(['District','Literacy'])\n",
    "    for row in l:\n",
    "        csv_out.writerow(row)\n",
    "        \n",
    "\n",
    "            "
   ]
  },
  {
   "cell_type": "code",
   "execution_count": null,
   "metadata": {
    "collapsed": true
   },
   "outputs": [],
   "source": []
  }
 ],
 "metadata": {
  "kernelspec": {
   "display_name": "Python 2",
   "language": "python",
   "name": "python2"
  },
  "language_info": {
   "codemirror_mode": {
    "name": "ipython",
    "version": 2
   },
   "file_extension": ".py",
   "mimetype": "text/x-python",
   "name": "python",
   "nbconvert_exporter": "python",
   "pygments_lexer": "ipython2",
   "version": "2.7.13"
  }
 },
 "nbformat": 4,
 "nbformat_minor": 2
}
