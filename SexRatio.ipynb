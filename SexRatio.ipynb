{
 "cells": [
  {
   "cell_type": "code",
   "execution_count": 41,
   "metadata": {},
   "outputs": [
    {
     "name": "stdout",
     "output_type": "stream",
     "text": [
      "Khordha 929\n",
      "Baudh 991\n",
      "Subarnapur 960\n",
      "Debagarh 975\n",
      "Bhadrak 981\n",
      "Koraput 1032\n",
      "Ganjam 983\n",
      "Jajapur 973\n",
      "Anugul 943\n",
      "Puri 963\n",
      "Dhenkanal 947\n",
      "Nabarangapur 1019\n",
      "Gajapati 1043\n",
      "Kendrapara 1007\n",
      "Kendujhar 988\n",
      "Jagatsinghapur 968\n",
      "Rayagada 1051\n",
      "Mayurbhanj 1006\n",
      "Malkangiri 1020\n",
      "Cuttack 940\n",
      "Nuapada 1021\n",
      "Nayagarh 915\n",
      "Baleshwar 957\n",
      "Jharsuguda 953\n",
      "Kandhamal 1037\n",
      "Kalahandi 1003\n",
      "Sambalpur 976\n",
      "Bargarh 977\n",
      "Balangir 987\n",
      "Sundargarh 973\n"
     ]
    }
   ],
   "source": [
    "import pandas as pd\n",
    "import csv\n",
    "import numpy as np\n",
    "\n",
    "lines = np.genfromtxt(\"SexRatio1.csv\", delimiter=\",\", dtype=None,skip_header=1)\n",
    "\n",
    "#reading the district names and sex ratio as dictionary\n",
    "\n",
    "my_dict = dict()\n",
    "my_dict = {rows[0]:rows[1] for rows in lines}\n",
    "        \n",
    "#printing data \n",
    "for i in my_dict:\n",
    "    print i, my_dict[i]\n",
    "        \n"
   ]
  },
  {
   "cell_type": "code",
   "execution_count": 45,
   "metadata": {},
   "outputs": [
    {
     "name": "stdout",
     "output_type": "stream",
     "text": [
      "[('Rayagada', 1051), ('Gajapati', 1043), ('Kandhamal', 1037), ('Koraput', 1032), ('Nuapada', 1021), ('Malkangiri', 1020), ('Nabarangapur', 1019), ('Kendrapara', 1007), ('Mayurbhanj', 1006), ('Kalahandi', 1003), ('Baudh', 991), ('Kendujhar', 988), ('Balangir', 987), ('Ganjam', 983), ('Bhadrak', 981), ('Bargarh', 977), ('Sambalpur', 976), ('Debagarh', 975), ('Jajapur', 973), ('Sundargarh', 973), ('Jagatsinghapur', 968), ('Puri', 963), ('Subarnapur', 960), ('Baleshwar', 957), ('Jharsuguda', 953), ('Dhenkanal', 947), ('Anugul', 943), ('Cuttack', 940), ('Khordha', 929), ('Nayagarh', 915)]\n"
     ]
    }
   ],
   "source": [
    "d=sorted(my_dict.items(), key=lambda kv: kv[1], reverse=True)\n",
    "print d"
   ]
  },
  {
   "cell_type": "code",
   "execution_count": 46,
   "metadata": {
    "collapsed": true
   },
   "outputs": [],
   "source": [
    "with open('C:/Users/Simran/Desktop/SexRatio2.csv','wb') as out:\n",
    "    csv_out=csv.writer(out,delimiter=',')\n",
    "    csv_out.writerow(['District','SexRatio'])\n",
    "    for row in d:\n",
    "        csv_out.writerow(row)\n",
    "        \n",
    "\n",
    "            "
   ]
  },
  {
   "cell_type": "code",
   "execution_count": null,
   "metadata": {
    "collapsed": true
   },
   "outputs": [],
   "source": []
  }
 ],
 "metadata": {
  "kernelspec": {
   "display_name": "Python 2",
   "language": "python",
   "name": "python2"
  },
  "language_info": {
   "codemirror_mode": {
    "name": "ipython",
    "version": 2
   },
   "file_extension": ".py",
   "mimetype": "text/x-python",
   "name": "python",
   "nbconvert_exporter": "python",
   "pygments_lexer": "ipython2",
   "version": "2.7.13"
  }
 },
 "nbformat": 4,
 "nbformat_minor": 2
}
