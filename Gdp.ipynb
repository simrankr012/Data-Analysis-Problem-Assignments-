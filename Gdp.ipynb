{
 "cells": [
  {
   "cell_type": "code",
   "execution_count": 2,
   "metadata": {},
   "outputs": [
    {
     "name": "stdout",
     "output_type": "stream",
     "text": [
      "Khordha 10.55566068\n",
      "Baudh 10.61305066\n",
      "Subarnapur 9.95304019\n",
      "Debagarh -1.864125932\n",
      "Bhadrak 5.211620417\n",
      "Koraput 9.146622135\n",
      "Ganjam 8.832644375\n",
      "Jajapur 8.950740762\n",
      "Anugul 1.338297875\n",
      "Puri 13.142338\n",
      "Dhenkanal 7.100216955\n",
      "Nabarangapur 6.612345547\n",
      "Gajapati 7.415397061\n",
      "Kendrapara 10.97162468\n",
      "Kendujhar -0.049125267\n",
      "Jagatsinghapur 8.333824357\n",
      "Rayagada 2.192067241\n",
      "Mayurbhanj 11.1802995\n",
      "Malkangiri 1.085748237\n",
      "Cuttack 8.170619536\n",
      "Nuapada 6.771688267\n",
      "Nayagarh 9.309288267\n",
      "Baleshwar nan\n",
      "Jharsuguda 16.23241376\n",
      "Kandhamal 6.269771078\n",
      "Kalahandi 12.99994006\n",
      "Sambalpur 6.857229176\n",
      "Bargarh 12.15939205\n",
      "Balangir 16.6760159\n",
      "Sundargarh 5.746714728\n"
     ]
    }
   ],
   "source": [
    "import pandas as pd\n",
    "import csv\n",
    "import numpy as np\n",
    "\n",
    "lines = np.genfromtxt(\"Gdp1.csv\", delimiter=\",\", dtype=None,skip_header=1)\n",
    "\n",
    "#reading the district names and Gdp\n",
    "my_dict = dict()\n",
    "my_dict = {rows[0]:rows[1] for rows in lines}\n",
    "        \n",
    "#printing data \n",
    "for i in my_dict:\n",
    "    print i, my_dict[i]\n",
    "        \n"
   ]
  },
  {
   "cell_type": "code",
   "execution_count": 3,
   "metadata": {},
   "outputs": [
    {
     "name": "stdout",
     "output_type": "stream",
     "text": [
      "[('Baleshwar', nan), ('Balangir', 16.676015899999999), ('Jharsuguda', 16.23241376), ('Puri', 13.142338000000001), ('Kalahandi', 12.99994006), ('Bargarh', 12.159392049999999), ('Mayurbhanj', 11.1802995), ('Kendrapara', 10.97162468), ('Baudh', 10.613050660000001), ('Khordha', 10.555660680000001), ('Subarnapur', 9.9530401899999994), ('Nayagarh', 9.3092882669999995), ('Koraput', 9.1466221349999994), ('Jajapur', 8.9507407620000006), ('Ganjam', 8.8326443749999992), ('Jagatsinghapur', 8.3338243569999992), ('Cuttack', 8.1706195360000002), ('Gajapati', 7.4153970610000002), ('Dhenkanal', 7.1002169549999996), ('Sambalpur', 6.8572291759999997), ('Nuapada', 6.771688267), ('Nabarangapur', 6.6123455470000003), ('Kandhamal', 6.2697710779999998), ('Sundargarh', 5.7467147279999997), ('Bhadrak', 5.2116204169999998), ('Rayagada', 2.1920672410000002), ('Anugul', 1.3382978750000001), ('Malkangiri', 1.085748237), ('Kendujhar', -0.049125267), ('Debagarh', -1.8641259320000001)]\n"
     ]
    }
   ],
   "source": [
    "g=sorted(my_dict.items(), key=lambda kv: kv[1], reverse=True)\n",
    "print g"
   ]
  },
  {
   "cell_type": "code",
   "execution_count": 4,
   "metadata": {
    "collapsed": true
   },
   "outputs": [],
   "source": [
    "with open('C:/Users/Simran/Desktop/Gdp2.csv','wb') as out:\n",
    "    csv_out=csv.writer(out,delimiter=',')\n",
    "    csv_out.writerow(['District','Gdp'])\n",
    "    for row in g:\n",
    "        csv_out.writerow(row)\n",
    "        \n",
    "\n",
    "            "
   ]
  },
  {
   "cell_type": "code",
   "execution_count": null,
   "metadata": {
    "collapsed": true
   },
   "outputs": [],
   "source": []
  }
 ],
 "metadata": {
  "kernelspec": {
   "display_name": "Python 2",
   "language": "python",
   "name": "python2"
  },
  "language_info": {
   "codemirror_mode": {
    "name": "ipython",
    "version": 2
   },
   "file_extension": ".py",
   "mimetype": "text/x-python",
   "name": "python",
   "nbconvert_exporter": "python",
   "pygments_lexer": "ipython2",
   "version": "2.7.13"
  }
 },
 "nbformat": 4,
 "nbformat_minor": 2
}
